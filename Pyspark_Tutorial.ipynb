{
  "nbformat": 4,
  "nbformat_minor": 0,
  "metadata": {
    "colab": {
      "name": "Pyspark Tutorial.ipynb",
      "provenance": [],
      "authorship_tag": "ABX9TyOKGSPj2r4WhHupakhqaGEZ",
      "include_colab_link": true
    },
    "kernelspec": {
      "name": "python3",
      "display_name": "Python 3"
    },
    "language_info": {
      "name": "python"
    }
  },
  "cells": [
    {
      "cell_type": "markdown",
      "metadata": {
        "id": "view-in-github",
        "colab_type": "text"
      },
      "source": [
        "<a href=\"https://colab.research.google.com/github/zeynepaycan/pyspark-tutorial/blob/main/Pyspark_Tutorial.ipynb\" target=\"_parent\"><img src=\"https://colab.research.google.com/assets/colab-badge.svg\" alt=\"Open In Colab\"/></a>"
      ]
    },
    {
      "cell_type": "markdown",
      "metadata": {
        "id": "9rCPOj7re8hD"
      },
      "source": [
        "# Setting up PySpark in Colab"
      ]
    },
    {
      "cell_type": "code",
      "metadata": {
        "id": "xzqNsfWBwkKh"
      },
      "source": [
        "# innstall java\n",
        "!apt-get install openjdk-8-jdk-headless -qq > /dev/null\n",
        "\n",
        "# install spark (change the version number if needed)\n",
        "!wget -q https://archive.apache.org/dist/spark/spark-3.0.0/spark-3.0.0-bin-hadoop3.2.tgz\n",
        "\n",
        "# unzip the spark file to the current folder\n",
        "!tar xf spark-3.0.0-bin-hadoop3.2.tgz\n",
        "\n",
        "# set your spark folder to your system path environment. \n",
        "import os\n",
        "os.environ[\"JAVA_HOME\"] = \"/usr/lib/jvm/java-8-openjdk-amd64\"\n",
        "os.environ[\"SPARK_HOME\"] = \"/content/spark-3.0.0-bin-hadoop3.2\"\n",
        "\n",
        "\n",
        "# install findspark using pip\n",
        "!pip install -q findspark"
      ],
      "execution_count": null,
      "outputs": []
    },
    {
      "cell_type": "code",
      "metadata": {
        "id": "F3Dw0WeRwr3E"
      },
      "source": [
        "import findspark\n",
        "findspark.init()"
      ],
      "execution_count": null,
      "outputs": []
    },
    {
      "cell_type": "code",
      "metadata": {
        "colab": {
          "base_uri": "https://localhost:8080/",
          "height": 35
        },
        "id": "VXmPqHIXhGru",
        "outputId": "dfdc5dc5-b3db-4a64-c60c-7e602859f208"
      },
      "source": [
        "findspark.find()"
      ],
      "execution_count": null,
      "outputs": [
        {
          "output_type": "execute_result",
          "data": {
            "application/vnd.google.colaboratory.intrinsic+json": {
              "type": "string"
            },
            "text/plain": [
              "'/content/spark-3.0.0-bin-hadoop3.2'"
            ]
          },
          "metadata": {
            "tags": []
          },
          "execution_count": 3
        }
      ]
    },
    {
      "cell_type": "code",
      "metadata": {
        "id": "v0LeFmRkh3P3"
      },
      "source": [
        "from pyspark.sql import SparkSession\n",
        "\n",
        "spark = SparkSession.builder\\\n",
        "        .master(\"local\")\\\n",
        "        .appName(\"Colab\")\\\n",
        "        .config('spark.ui.port', '4050')\\\n",
        "        .getOrCreate()"
      ],
      "execution_count": null,
      "outputs": []
    },
    {
      "cell_type": "code",
      "metadata": {
        "colab": {
          "base_uri": "https://localhost:8080/",
          "height": 216
        },
        "id": "csIvFCMeh9uM",
        "outputId": "b3f35e1f-8fed-479f-d611-93a9ac5674c0"
      },
      "source": [
        "spark"
      ],
      "execution_count": null,
      "outputs": [
        {
          "output_type": "execute_result",
          "data": {
            "text/html": [
              "\n",
              "            <div>\n",
              "                <p><b>SparkSession - in-memory</b></p>\n",
              "                \n",
              "        <div>\n",
              "            <p><b>SparkContext</b></p>\n",
              "\n",
              "            <p><a href=\"http://e948ee5abe53:4050\">Spark UI</a></p>\n",
              "\n",
              "            <dl>\n",
              "              <dt>Version</dt>\n",
              "                <dd><code>v3.0.0</code></dd>\n",
              "              <dt>Master</dt>\n",
              "                <dd><code>local</code></dd>\n",
              "              <dt>AppName</dt>\n",
              "                <dd><code>Colab</code></dd>\n",
              "            </dl>\n",
              "        </div>\n",
              "        \n",
              "            </div>\n",
              "        "
            ],
            "text/plain": [
              "<pyspark.sql.session.SparkSession at 0x7fc484723f50>"
            ]
          },
          "metadata": {
            "tags": []
          },
          "execution_count": 5
        }
      ]
    },
    {
      "cell_type": "code",
      "metadata": {
        "colab": {
          "base_uri": "https://localhost:8080/"
        },
        "id": "962IkCzah-4y",
        "outputId": "f3d0053c-d501-4b1a-dfee-d36de06033b3"
      },
      "source": [
        "!wget https://bin.equinox.io/c/4VmDzA7iaHb/ngrok-stable-linux-amd64.zip\n",
        "!unzip ngrok-stable-linux-amd64.zip\n",
        "get_ipython().system_raw('./ngrok http 4050 &')\n",
        "!curl -s http://localhost:4040/api/tunnels"
      ],
      "execution_count": null,
      "outputs": [
        {
          "output_type": "stream",
          "text": [
            "--2021-08-17 09:54:01--  https://bin.equinox.io/c/4VmDzA7iaHb/ngrok-stable-linux-amd64.zip\n",
            "Resolving bin.equinox.io (bin.equinox.io)... 54.210.185.64, 50.16.95.25, 34.192.220.41, ...\n",
            "Connecting to bin.equinox.io (bin.equinox.io)|54.210.185.64|:443... connected.\n",
            "HTTP request sent, awaiting response... 200 OK\n",
            "Length: 13832437 (13M) [application/octet-stream]\n",
            "Saving to: ‘ngrok-stable-linux-amd64.zip’\n",
            "\n",
            "\r          ngrok-sta   0%[                    ]       0  --.-KB/s               \r         ngrok-stab  93%[=================>  ]  12.33M  61.6MB/s               \rngrok-stable-linux- 100%[===================>]  13.19M  63.9MB/s    in 0.2s    \n",
            "\n",
            "2021-08-17 09:54:02 (63.9 MB/s) - ‘ngrok-stable-linux-amd64.zip’ saved [13832437/13832437]\n",
            "\n",
            "Archive:  ngrok-stable-linux-amd64.zip\n",
            "  inflating: ngrok                   \n",
            "{\"tunnels\":[],\"uri\":\"/api/tunnels\"}\n"
          ],
          "name": "stdout"
        }
      ]
    },
    {
      "cell_type": "markdown",
      "metadata": {
        "id": "YmR7CCSofFaX"
      },
      "source": [
        "# Loading data into PySpark"
      ]
    },
    {
      "cell_type": "code",
      "metadata": {
        "id": "xUlkLJBHiv_o"
      },
      "source": [
        "df = spark.read.csv(\"apple_products.csv\", header=True, inferSchema=True)"
      ],
      "execution_count": null,
      "outputs": []
    },
    {
      "cell_type": "markdown",
      "metadata": {
        "id": "9Ufd8HaXfKyu"
      },
      "source": [
        "# Data Exploration with PySpark DF"
      ]
    },
    {
      "cell_type": "markdown",
      "metadata": {
        "id": "D9lBAOKDfOR1"
      },
      "source": [
        "**Show column details**"
      ]
    },
    {
      "cell_type": "code",
      "metadata": {
        "colab": {
          "base_uri": "https://localhost:8080/"
        },
        "id": "r5YFpAdtjMkn",
        "outputId": "aeab942f-cc1d-4677-fb98-51f056da2bbc"
      },
      "source": [
        "df.printSchema()"
      ],
      "execution_count": null,
      "outputs": [
        {
          "output_type": "stream",
          "text": [
            "root\n",
            " |-- Product Name: string (nullable = true)\n",
            " |-- Product URL: string (nullable = true)\n",
            " |-- Brand: string (nullable = true)\n",
            " |-- Sale Price: integer (nullable = true)\n",
            " |-- Mrp: integer (nullable = true)\n",
            " |-- Discount Percentage: integer (nullable = true)\n",
            " |-- Number Of Ratings: integer (nullable = true)\n",
            " |-- Number Of Reviews: integer (nullable = true)\n",
            " |-- Upc: string (nullable = true)\n",
            " |-- Star Rating: double (nullable = true)\n",
            " |-- Ram: string (nullable = true)\n",
            "\n"
          ],
          "name": "stdout"
        }
      ]
    },
    {
      "cell_type": "markdown",
      "metadata": {
        "id": "ko9n_f1LfUJ2"
      },
      "source": [
        "**Display Rows**"
      ]
    },
    {
      "cell_type": "code",
      "metadata": {
        "colab": {
          "base_uri": "https://localhost:8080/"
        },
        "id": "6dEDve2cjPPX",
        "outputId": "561f6bbe-0c17-4aaa-b447-c3176f2535ae"
      },
      "source": [
        "df.show(5)"
      ],
      "execution_count": null,
      "outputs": [
        {
          "output_type": "stream",
          "text": [
            "+--------------------+--------------------+-----+----------+-----+-------------------+-----------------+-----------------+----------------+-----------+----+\n",
            "|        Product Name|         Product URL|Brand|Sale Price|  Mrp|Discount Percentage|Number Of Ratings|Number Of Reviews|             Upc|Star Rating| Ram|\n",
            "+--------------------+--------------------+-----+----------+-----+-------------------+-----------------+-----------------+----------------+-----------+----+\n",
            "|APPLE iPhone 8 Pl...|https://www.flipk...|Apple|     49900|49900|                  0|             3431|              356|MOBEXRGV7EHHTGUH|        4.6|2 GB|\n",
            "|APPLE iPhone 8 Pl...|https://www.flipk...|Apple|     84900|84900|                  0|             3431|              356|MOBEXRGVAC6TJT4F|        4.6|2 GB|\n",
            "|APPLE iPhone 8 Pl...|https://www.flipk...|Apple|     84900|84900|                  0|             3431|              356|MOBEXRGVGETABXWZ|        4.6|2 GB|\n",
            "|APPLE iPhone 8 (S...|https://www.flipk...|Apple|     77000|77000|                  0|            11202|              794|MOBEXRGVMZWUHCBA|        4.5|2 GB|\n",
            "|APPLE iPhone 8 (G...|https://www.flipk...|Apple|     77000|77000|                  0|            11202|              794|MOBEXRGVPK7PFEJZ|        4.5|2 GB|\n",
            "+--------------------+--------------------+-----+----------+-----+-------------------+-----------------+-----------------+----------------+-----------+----+\n",
            "only showing top 5 rows\n",
            "\n"
          ],
          "name": "stdout"
        }
      ]
    },
    {
      "cell_type": "markdown",
      "metadata": {
        "id": "03preBu5faAH"
      },
      "source": [
        "**Number of rows in DF**"
      ]
    },
    {
      "cell_type": "code",
      "metadata": {
        "colab": {
          "base_uri": "https://localhost:8080/"
        },
        "id": "jvLZ6fsmjRvN",
        "outputId": "f444045a-a816-4659-8b39-8a19a7297d88"
      },
      "source": [
        "df.count()"
      ],
      "execution_count": null,
      "outputs": [
        {
          "output_type": "execute_result",
          "data": {
            "text/plain": [
              "62"
            ]
          },
          "metadata": {
            "tags": []
          },
          "execution_count": 27
        }
      ]
    },
    {
      "cell_type": "markdown",
      "metadata": {
        "id": "GvFi9SEhfdee"
      },
      "source": [
        "**Display specific columns**"
      ]
    },
    {
      "cell_type": "code",
      "metadata": {
        "colab": {
          "base_uri": "https://localhost:8080/"
        },
        "id": "K9ITPa3_jUZc",
        "outputId": "eef4a25d-c088-4a92-b057-f78520f0ff15"
      },
      "source": [
        "df.select(\"Product Name\",\"Sale Price\").show(5)"
      ],
      "execution_count": null,
      "outputs": [
        {
          "output_type": "stream",
          "text": [
            "+--------------------+----------+\n",
            "|        Product Name|Sale Price|\n",
            "+--------------------+----------+\n",
            "|APPLE iPhone 8 Pl...|     49900|\n",
            "|APPLE iPhone 8 Pl...|     84900|\n",
            "|APPLE iPhone 8 Pl...|     84900|\n",
            "|APPLE iPhone 8 (S...|     77000|\n",
            "|APPLE iPhone 8 (G...|     77000|\n",
            "+--------------------+----------+\n",
            "only showing top 5 rows\n",
            "\n"
          ],
          "name": "stdout"
        }
      ]
    },
    {
      "cell_type": "markdown",
      "metadata": {
        "id": "zS73A-BGfhVe"
      },
      "source": [
        "**Describing the columns**"
      ]
    },
    {
      "cell_type": "code",
      "metadata": {
        "colab": {
          "base_uri": "https://localhost:8080/"
        },
        "id": "i9W8WkuAmcdO",
        "outputId": "a9d38458-d518-4ae7-fc02-c4fbef7e97fb"
      },
      "source": [
        "df.describe().show()"
      ],
      "execution_count": null,
      "outputs": [
        {
          "output_type": "stream",
          "text": [
            "+-------+--------------------+--------------------+-----+-----------------+------------------+-------------------+-----------------+------------------+----------------+-------------------+----+\n",
            "|summary|        Product Name|         Product URL|Brand|       Sale Price|               Mrp|Discount Percentage|Number Of Ratings| Number Of Reviews|             Upc|        Star Rating| Ram|\n",
            "+-------+--------------------+--------------------+-----+-----------------+------------------+-------------------+-----------------+------------------+----------------+-------------------+----+\n",
            "|  count|                  62|                  62|   62|               62|                62|                 62|               62|                62|              62|                 62|  62|\n",
            "|   mean|                null|                null| null| 80073.8870967742| 88058.06451612903|  9.951612903225806|22420.40322580645|1861.6774193548388|            null|  4.575806451612904|null|\n",
            "| stddev|                null|                null| null|34310.44613243489|34728.825596901945|  7.608079009076823|33768.58955022837|2855.8838302026406|            null|0.05918984148266887|null|\n",
            "|    min|APPLE iPhone 11 (...|https://www.flipk...|Apple|            29999|             39900|                  0|              542|                42|MOBEXRGV7EHHTGUH|                4.5|2 GB|\n",
            "|    max|Apple iPhone XR (...|https://www.flipk...|Apple|           140900|            149900|                 29|            95909|              8161|MOBFWQ6BYYV3FCU7|                4.7|6 GB|\n",
            "+-------+--------------------+--------------------+-----+-----------------+------------------+-------------------+-----------------+------------------+----------------+-------------------+----+\n",
            "\n"
          ],
          "name": "stdout"
        }
      ]
    },
    {
      "cell_type": "markdown",
      "metadata": {
        "id": "5ygJpE9CfmcP"
      },
      "source": [
        "**Distinct values for Categorical columns**"
      ]
    },
    {
      "cell_type": "code",
      "metadata": {
        "colab": {
          "base_uri": "https://localhost:8080/"
        },
        "id": "r_K7-U9WmiUj",
        "outputId": "0d807957-c83e-4f30-9112-a023af3934ca"
      },
      "source": [
        "df.select(\"Product Name\").distinct().show()"
      ],
      "execution_count": null,
      "outputs": [
        {
          "output_type": "stream",
          "text": [
            "+--------------------+\n",
            "|        Product Name|\n",
            "+--------------------+\n",
            "|APPLE iPhone 8 (S...|\n",
            "|APPLE iPhone 11 (...|\n",
            "|APPLE iPhone 12 P...|\n",
            "|APPLE iPhone 11 (...|\n",
            "|APPLE iPhone 12 (...|\n",
            "|APPLE iPhone 12 (...|\n",
            "|Apple iPhone XR (...|\n",
            "|APPLE iPhone 12 M...|\n",
            "|APPLE iPhone 12 P...|\n",
            "|APPLE iPhone 12 P...|\n",
            "|APPLE iPhone 12 (...|\n",
            "|APPLE iPhone 11 P...|\n",
            "|APPLE iPhone SE (...|\n",
            "|Apple iPhone SE (...|\n",
            "|APPLE iPhone 12 P...|\n",
            "|APPLE iPhone XS M...|\n",
            "|APPLE iPhone 12 M...|\n",
            "|APPLE iPhone 11 P...|\n",
            "|APPLE iPhone SE (...|\n",
            "|Apple iPhone XR (...|\n",
            "+--------------------+\n",
            "only showing top 20 rows\n",
            "\n"
          ],
          "name": "stdout"
        }
      ]
    },
    {
      "cell_type": "markdown",
      "metadata": {
        "id": "EH_eTRLhfp_J"
      },
      "source": [
        "**Aggregate with Groupby**"
      ]
    },
    {
      "cell_type": "code",
      "metadata": {
        "colab": {
          "base_uri": "https://localhost:8080/"
        },
        "id": "Up1iGMLamq0L",
        "outputId": "c2dd1547-ba06-4a8d-b6e1-8db01e84fc4b"
      },
      "source": [
        "from pyspark.sql import functions as F\n",
        "df.groupBy(\"Product Name\").agg(F.sum(\"Sale Price\")).show()"
      ],
      "execution_count": null,
      "outputs": [
        {
          "output_type": "stream",
          "text": [
            "+--------------------+---------------+\n",
            "|        Product Name|sum(Sale Price)|\n",
            "+--------------------+---------------+\n",
            "|APPLE iPhone 8 (S...|          77000|\n",
            "|APPLE iPhone 11 (...|          46999|\n",
            "|APPLE iPhone 12 P...|         120900|\n",
            "|APPLE iPhone 11 (...|          54999|\n",
            "|APPLE iPhone 12 (...|          70900|\n",
            "|APPLE iPhone 12 (...|          70900|\n",
            "|Apple iPhone XR (...|          41999|\n",
            "|APPLE iPhone 12 M...|          64900|\n",
            "|APPLE iPhone 12 P...|         130900|\n",
            "|APPLE iPhone 12 P...|         120900|\n",
            "|APPLE iPhone 12 (...|          75900|\n",
            "|APPLE iPhone 11 P...|         117100|\n",
            "|APPLE iPhone SE (...|          34999|\n",
            "|Apple iPhone SE (...|          44999|\n",
            "|APPLE iPhone 12 P...|         130900|\n",
            "|APPLE iPhone XS M...|          89900|\n",
            "|APPLE iPhone 12 M...|          59900|\n",
            "|APPLE iPhone 11 P...|         117900|\n",
            "|APPLE iPhone SE (...|          34999|\n",
            "|Apple iPhone XR (...|          41999|\n",
            "+--------------------+---------------+\n",
            "only showing top 20 rows\n",
            "\n"
          ],
          "name": "stdout"
        }
      ]
    },
    {
      "cell_type": "markdown",
      "metadata": {
        "id": "p15FRjM8fvWR"
      },
      "source": [
        "**Counting and Removing Null values**"
      ]
    },
    {
      "cell_type": "code",
      "metadata": {
        "colab": {
          "base_uri": "https://localhost:8080/"
        },
        "id": "NxnrwdtPm00Y",
        "outputId": "d0b7c450-7ca2-4988-95bf-7fd28a3321a4"
      },
      "source": [
        "df.select([F.count(F.when(F.isnull(c), c)).alias(c) for c in df.columns]).show()"
      ],
      "execution_count": null,
      "outputs": [
        {
          "output_type": "stream",
          "text": [
            "+------------+-----------+-----+----------+---+-------------------+-----------------+-----------------+---+-----------+---+\n",
            "|Product Name|Product URL|Brand|Sale Price|Mrp|Discount Percentage|Number Of Ratings|Number Of Reviews|Upc|Star Rating|Ram|\n",
            "+------------+-----------+-----+----------+---+-------------------+-----------------+-----------------+---+-----------+---+\n",
            "|           0|          0|    0|         0|  0|                  0|                0|                0|  0|          0|  0|\n",
            "+------------+-----------+-----+----------+---+-------------------+-----------------+-----------------+---+-----------+---+\n",
            "\n"
          ],
          "name": "stdout"
        }
      ]
    },
    {
      "cell_type": "markdown",
      "metadata": {
        "id": "yNmlQwEqfydK"
      },
      "source": [
        "# Continue..."
      ]
    }
  ]
}